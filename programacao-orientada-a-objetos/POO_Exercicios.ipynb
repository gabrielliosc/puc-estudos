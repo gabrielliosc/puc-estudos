{
  "nbformat": 4,
  "nbformat_minor": 0,
  "metadata": {
    "colab": {
      "provenance": [],
      "toc_visible": true,
      "collapsed_sections": [
        "QScVmFMs09Fs",
        "L41hfb2N1Jhy",
        "Gmk0AKmf1OSF",
        "oIRxBM_C1UeE",
        "QoDwC9Ld2B8j"
      ],
      "include_colab_link": true
    },
    "kernelspec": {
      "name": "python3",
      "display_name": "Python 3"
    },
    "language_info": {
      "name": "python"
    }
  },
  "cells": [
    {
      "cell_type": "markdown",
      "metadata": {
        "id": "view-in-github",
        "colab_type": "text"
      },
      "source": [
        "<a href=\"https://colab.research.google.com/github/gabrielliosc/puc-estudos/blob/main/programacao-orientada-a-objetos/POO_Exercicios.ipynb\" target=\"_parent\"><img src=\"https://colab.research.google.com/assets/colab-badge.svg\" alt=\"Open In Colab\"/></a>"
      ]
    },
    {
      "cell_type": "markdown",
      "source": [
        "# Programação Orientada a Objetos\n",
        "## Prof. Tatiana Escovedo\n",
        "## Prof. Assistente Antonio Pedro\n",
        "\n",
        "---\n",
        "\n",
        "## Exercícios Básicos de Fixação\n",
        "\n",
        "***(Lista permanentemente em construção. Se quiser sugerir um exercício entre em contato com os professores.)***"
      ],
      "metadata": {
        "id": "qWvghOA0ZHgx"
      }
    },
    {
      "cell_type": "markdown",
      "source": [
        "## Básico de Python"
      ],
      "metadata": {
        "id": "mECl2y1Sfta8"
      }
    },
    {
      "cell_type": "markdown",
      "source": [
        "### Tipos de Variáveis e Operações"
      ],
      "metadata": {
        "id": "QScVmFMs09Fs"
      }
    },
    {
      "cell_type": "markdown",
      "source": [
        "1) Crie e inicialize duas variáveis inteiras e imprima a sua soma."
      ],
      "metadata": {
        "id": "rKPIhXWcfvTB"
      }
    },
    {
      "cell_type": "code",
      "source": [
        "a = 7\n",
        "b = 9\n",
        "\n",
        "print(a+b)"
      ],
      "metadata": {
        "colab": {
          "base_uri": "https://localhost:8080/"
        },
        "id": "rrZNMfLtf54L",
        "outputId": "a246ed23-a35f-45d2-ce92-da681e268dfc"
      },
      "execution_count": null,
      "outputs": [
        {
          "output_type": "stream",
          "name": "stdout",
          "text": [
            "16\n"
          ]
        }
      ]
    },
    {
      "cell_type": "markdown",
      "source": [
        "2) Crie e inicialize duas variáveis com algum texto e tente imprimir a soma dessas variáveis.\n"
      ],
      "metadata": {
        "id": "RVTxwwgl4Yji"
      }
    },
    {
      "cell_type": "code",
      "source": [
        "texto_1 = 'Oi.'\n",
        "texto_2 = 'Tudo bem?'\n",
        "\n",
        "print(texto_1 + texto_2)"
      ],
      "metadata": {
        "colab": {
          "base_uri": "https://localhost:8080/"
        },
        "id": "zZvvAood4sih",
        "outputId": "94f6f89d-f88b-4a8e-b4b5-b3828a0ffa0a"
      },
      "execution_count": null,
      "outputs": [
        {
          "output_type": "stream",
          "name": "stdout",
          "text": [
            "Oi.Tudo bem?\n"
          ]
        }
      ]
    },
    {
      "cell_type": "markdown",
      "source": [
        "3) Crie e inicialize três variáveis que armazenem, respectivamente, uma mensagem de boas vindas (*boas_vindas* como String), o nome (*nome_usuario* como String) e o saldo (*saldo_usuario* como Inteiro ou Float) de um usuário no banco. Imprima essas três variáveis no seguinte formato:\n",
        "\n",
        "'*boas_vindas*, *nome_usuario*. Seu saldo é de R$ *saldo_usuario*.'"
      ],
      "metadata": {
        "id": "_KBY8mI759FI"
      }
    },
    {
      "cell_type": "code",
      "source": [
        "boas_vindas = 'Bem-vindo'\n",
        "nome_usuario = 'Joana'\n",
        "saldo_usuario = 355.89\n",
        "\n",
        "print('{}, {}. Seu saldo é de R$ {}.'.format(boas_vindas, nome_usuario, saldo_usuario))\n",
        "print(f'{boas_vindas}, {nome_usuario}. Seu saldo é de R$ {saldo_usuario}.') # - Alternativa desde o Python 3.6"
      ],
      "metadata": {
        "colab": {
          "base_uri": "https://localhost:8080/"
        },
        "id": "fWRgs4XN6imw",
        "outputId": "89499bf0-4b2d-4c5d-b97e-d9043fea52f5"
      },
      "execution_count": null,
      "outputs": [
        {
          "output_type": "stream",
          "name": "stdout",
          "text": [
            "Bem-vindo, Joana. Seu saldo é de R$ 355.89.\n",
            "Bem-vindo, Joana. Seu saldo é de R$ 355.89.\n"
          ]
        }
      ]
    },
    {
      "cell_type": "markdown",
      "source": [
        "4) Crie e inicialize uma variável com algum texto e imprima quantos caracteres tem esse texto."
      ],
      "metadata": {
        "id": "nfjuxz3LJ5HP"
      }
    },
    {
      "cell_type": "code",
      "source": [
        "texto = 'Olá, pessoa! Tudo bem? Como foi seu dia?'\n",
        "print('O texto tem {} caracteres.'.format(len(texto)))"
      ],
      "metadata": {
        "colab": {
          "base_uri": "https://localhost:8080/"
        },
        "id": "vFf3Ze8nKCib",
        "outputId": "15692ff1-7a43-42f8-f981-bae8780f9eb0"
      },
      "execution_count": null,
      "outputs": [
        {
          "output_type": "stream",
          "name": "stdout",
          "text": [
            "O texto tem 40 caracteres.\n"
          ]
        }
      ]
    },
    {
      "cell_type": "markdown",
      "source": [
        "### Funções"
      ],
      "metadata": {
        "id": "L41hfb2N1Jhy"
      }
    },
    {
      "cell_type": "markdown",
      "source": [
        "1) Crie uma função chamada *hello_world* que imprime uma mensagem de boas-vindas. Teste sua função a chamando uma única vez."
      ],
      "metadata": {
        "id": "55d4j_g_9YLe"
      }
    },
    {
      "cell_type": "code",
      "source": [
        "def hello_world():\n",
        "  print(\"Olá, pessoal!\")\n",
        "\n",
        "hello_world()"
      ],
      "metadata": {
        "colab": {
          "base_uri": "https://localhost:8080/"
        },
        "id": "o-xyNa9x9g22",
        "outputId": "b03c3c1d-6fee-4479-b7f3-d22142c206af"
      },
      "execution_count": null,
      "outputs": [
        {
          "output_type": "stream",
          "name": "stdout",
          "text": [
            "Olá, pessoal!\n"
          ]
        }
      ]
    },
    {
      "cell_type": "markdown",
      "source": [
        "2) Crie uma função que não recebe nenhum parâmetro e imprima um número aleatório sempre que for chamada no seguinte formato:\n",
        "\n",
        "'Número Gerado: *numero_aleatorio*'\n",
        "\n",
        "Teste sua função a chamando, pelo menos, duas vezes."
      ],
      "metadata": {
        "id": "SS_qHXcj7936"
      }
    },
    {
      "cell_type": "code",
      "source": [
        "import random\n",
        "\n",
        "def imprime_numero_aleatorio():\n",
        "  # neste caso, usamos a biblioteca nativa random, que tem um método chamado\n",
        "  # random que retorna um número qualquer entre 0 e 1\n",
        "  numero_aleatorio = random.random()\n",
        "  print('Número Gerado: {}'.format(numero_aleatorio))\n",
        "\n",
        "imprime_numero_aleatorio() # vai imprimir um numero qualquer\n",
        "imprime_numero_aleatorio() # vai imprimir um outro numero qualquer"
      ],
      "metadata": {
        "colab": {
          "base_uri": "https://localhost:8080/"
        },
        "id": "VPqrCNZV8MkH",
        "outputId": "b7309d17-a564-4ca3-9d4f-0c85aa8cf524"
      },
      "execution_count": null,
      "outputs": [
        {
          "output_type": "stream",
          "name": "stdout",
          "text": [
            "Número Gerado: 0.06972078231982548\n",
            "Número Gerado: 0.5242654821886352\n"
          ]
        }
      ]
    },
    {
      "cell_type": "markdown",
      "source": [
        "3) Crie uma função que receba duas variáveis inteiras e retorne a sua soma.Imprima a seguinte mensagem com o resultado da *soma*.\n",
        "\n",
        "'A soma total foi *soma*!'\n",
        "\n",
        "Teste sua função passando dois inteiros."
      ],
      "metadata": {
        "id": "xFO_cx1VgEme"
      }
    },
    {
      "cell_type": "code",
      "source": [
        "def soma_numeros(a, b):\n",
        "    return a + b\n",
        "\n",
        "soma = soma_numeros(7,84)\n",
        "print('A soma total foi {}!'.format(soma))"
      ],
      "metadata": {
        "colab": {
          "base_uri": "https://localhost:8080/"
        },
        "id": "KNIm43EegEwS",
        "outputId": "128bee60-15a6-4b42-f4d9-3f1e786a285d"
      },
      "execution_count": null,
      "outputs": [
        {
          "output_type": "stream",
          "name": "stdout",
          "text": [
            "A soma total foi 91!\n"
          ]
        }
      ]
    },
    {
      "cell_type": "markdown",
      "source": [
        "4) Crie quatro funções que recebem duas variáveis inteiras e realizam as quatro operações básicas de soma, subtração, multiplicação e divisão. Retorne, para cada função, o resultado da operação e imprima seu resultado em alguma mensagem, capaz de distinguir as quatro operações. Teste cada uma das funções com pelo menos um exemplo.\n",
        "\n",
        "No caso da divisão, não é necessário tratar o caso de divisão por zero por ora."
      ],
      "metadata": {
        "id": "ZSTJS17mBLnE"
      }
    },
    {
      "cell_type": "code",
      "source": [
        "def soma(a, b):\n",
        "    return a + b\n",
        "\n",
        "def subtracao(a, b):\n",
        "    return a - b\n",
        "\n",
        "def multiplicacao(a, b):\n",
        "    return a * b\n",
        "\n",
        "def divisao(a, b):\n",
        "    return a / b\n",
        "\n",
        "print('A soma foi de {}.'.format(soma(7, 84)))\n",
        "print('A subtração foi de {}.'.format(subtracao(9, 2)))\n",
        "print('A multiplicação foi de {}.'.format(multiplicacao(10, 17)))\n",
        "print('A divisão foi de {}.'.format(divisao(27, 3)))"
      ],
      "metadata": {
        "colab": {
          "base_uri": "https://localhost:8080/"
        },
        "outputId": "4f0b361d-4b32-481e-96de-27a06e2483fe",
        "id": "oHPq9wMmBu5t"
      },
      "execution_count": null,
      "outputs": [
        {
          "output_type": "stream",
          "name": "stdout",
          "text": [
            "A soma foi de 91\n",
            "A subtração foi de 7\n",
            "A multiplicação foi de 170\n",
            "A divisão foi de 9.0\n"
          ]
        }
      ]
    },
    {
      "cell_type": "markdown",
      "source": [
        "### Loops\n"
      ],
      "metadata": {
        "id": "Gmk0AKmf1OSF"
      }
    },
    {
      "cell_type": "markdown",
      "source": [
        "1) Crie uma função que, dado um inteiro positivo, imprima os valores de 0 até o penúltimo inteiro antes do que foi informado.\n",
        "\n"
      ],
      "metadata": {
        "id": "7wQMXFnLElxX"
      }
    },
    {
      "cell_type": "code",
      "source": [
        "def imprime_numeros(numero):\n",
        "    for num in range(numero):\n",
        "      print(num)\n",
        "\n",
        "imprime_numeros(10)"
      ],
      "metadata": {
        "colab": {
          "base_uri": "https://localhost:8080/"
        },
        "outputId": "063636e0-da61-4e01-bd3e-4f2e005fee04",
        "id": "kGz5iRdgp1iv"
      },
      "execution_count": null,
      "outputs": [
        {
          "output_type": "stream",
          "name": "stdout",
          "text": [
            "0\n",
            "1\n",
            "2\n",
            "3\n",
            "4\n",
            "5\n",
            "6\n",
            "7\n",
            "8\n",
            "9\n"
          ]
        }
      ]
    },
    {
      "cell_type": "markdown",
      "source": [
        "2) Aproveite a lógica desenvolvida no exercício anterior e, ao invés de imprimir os valores, faça a soma de todos os inteiros entre 0 e o valor informado (incluindo o valor). Imprima uma mensagem ao final informando o valor considerado e a soma resultante.\n",
        "\n",
        "Exemplo: Se o valor informado for 3, o resultado esperado deve ser, 6 (3 + 2 + 1 + 0)"
      ],
      "metadata": {
        "id": "JA6GctkDqi2m"
      }
    },
    {
      "cell_type": "code",
      "source": [
        "def soma_numeros(numero):\n",
        "    soma = 0\n",
        "    for num in range(numero + 1):\n",
        "      soma = soma + num\n",
        "\n",
        "    print('A soma de todos os inteiros de 0 a {} foi de {}'.format(numero, soma))\n",
        "\n",
        "soma_numeros(3)"
      ],
      "metadata": {
        "colab": {
          "base_uri": "https://localhost:8080/"
        },
        "id": "3HjfFXUMqjYF",
        "outputId": "86d475f7-e903-4153-c708-55626f04138e"
      },
      "execution_count": null,
      "outputs": [
        {
          "output_type": "stream",
          "name": "stdout",
          "text": [
            "A soma de todos os inteiros de 0 a 3 foi de 6\n"
          ]
        }
      ]
    },
    {
      "cell_type": "markdown",
      "source": [
        "3) Dado o último exercício, vamos evoluir a lógica da soma completa para uma soma condicional de pares, ou seja, entre 0 e o valor inteiro informado, faça a soma somente dos números pares. Caso o número informado seja par, ele também deve ser incluído. Lembre-se de imprimir uma mensagem ao final informando o valor considerado e a soma resultante.\n",
        "\n",
        "Exemplo: Se o valor informado for 6, o resultado esperado deve ser 12 (0 + 2 + 4 + 6)"
      ],
      "metadata": {
        "id": "b5ry7DkdtNCm"
      }
    },
    {
      "cell_type": "code",
      "source": [
        "def soma_numeros_pares(numero):\n",
        "    soma_pares = 0\n",
        "    for num in range(0, numero + 1, 2):\n",
        "      soma_pares = soma_pares + num\n",
        "\n",
        "    print('A soma de todos os inteiros pares de 0 a {} foi de {}'.format(numero, soma_pares))\n",
        "\n",
        "soma_numeros_pares(6)"
      ],
      "metadata": {
        "colab": {
          "base_uri": "https://localhost:8080/"
        },
        "id": "nVFtJ5uo03oq",
        "outputId": "764628e6-1170-4f4a-92a6-d9bca5be9b9a"
      },
      "execution_count": null,
      "outputs": [
        {
          "output_type": "stream",
          "name": "stdout",
          "text": [
            "A soma de todos os inteiros pares de 0 a 6 foi de 12\n"
          ]
        }
      ]
    },
    {
      "cell_type": "markdown",
      "source": [
        "4) Crie uma função que receba uma string e imprima cada caractere em uma linha, tal que apareça um '-' seguido do caractere."
      ],
      "metadata": {
        "id": "QHN9-TBoJIeH"
      }
    },
    {
      "cell_type": "code",
      "source": [
        "def desmembra_string(mensagem):\n",
        "  for caractere in mensagem:\n",
        "    print('- ' + caractere)\n",
        "  # for indice in range(len(mensagem)): # alternativa é acessar posição a posição da string\n",
        "    # print('- ' + mensagem[indice])\n",
        "\n",
        "desmembra_string('Olá, pessoa! Tudo bem?')"
      ],
      "metadata": {
        "colab": {
          "base_uri": "https://localhost:8080/"
        },
        "id": "Ezx_pVtjJWSQ",
        "outputId": "b5d43d18-51c0-411c-8119-c866b34a1fda"
      },
      "execution_count": null,
      "outputs": [
        {
          "output_type": "stream",
          "name": "stdout",
          "text": [
            "- O\n",
            "- l\n",
            "- á\n",
            "- ,\n",
            "-  \n",
            "- p\n",
            "- e\n",
            "- s\n",
            "- s\n",
            "- o\n",
            "- a\n",
            "- !\n",
            "-  \n",
            "- T\n",
            "- u\n",
            "- d\n",
            "- o\n",
            "-  \n",
            "- b\n",
            "- e\n",
            "- m\n",
            "- ?\n"
          ]
        }
      ]
    },
    {
      "cell_type": "markdown",
      "source": [
        "### Condicionais"
      ],
      "metadata": {
        "id": "oIRxBM_C1UeE"
      }
    },
    {
      "cell_type": "markdown",
      "source": [
        "1) Crie uma função que, dadas duas variáveis inteiras, imprima a sua soma se eles forem iguais e a sua diferença se eles forem diferentes. Considere imprimir uma mensagem que mostre o resultado e a operação realizada. Teste esta função passando dois números iguais e passando dois números diferentes.\n"
      ],
      "metadata": {
        "id": "On9X4UMhiCNI"
      }
    },
    {
      "cell_type": "code",
      "source": [
        "def igual_ou_diferente(a, b):\n",
        "    if a == b:\n",
        "        print('Variáveis iguais, logo a soma é de {}.'.format(a+b))\n",
        "    else:\n",
        "        print('Variáveis diferentes, logo a subtração é de {}.'.format(a-b))\n",
        "\n",
        "igual_ou_diferente(7,7)\n",
        "igual_ou_diferente(7,84)"
      ],
      "metadata": {
        "colab": {
          "base_uri": "https://localhost:8080/"
        },
        "id": "LBruoNgsiIxh",
        "outputId": "e6f7c0e0-8f42-451d-a106-45b22338449b"
      },
      "execution_count": null,
      "outputs": [
        {
          "output_type": "stream",
          "name": "stdout",
          "text": [
            "Variáveis iguais, logo a soma é de 14.\n",
            "Variáveis diferentes, logo a subtração é de -77.\n"
          ]
        }
      ]
    },
    {
      "cell_type": "markdown",
      "source": [
        "2) Crie uma função que, dada uma variável inteira, imprima se o número informado é par, ímpar ou zero. Teste esta função para as três condições.\n"
      ],
      "metadata": {
        "id": "WAgMQ7JFF-Dj"
      }
    },
    {
      "cell_type": "code",
      "source": [
        "def par_impar_zero(x):\n",
        "    if x == 0:\n",
        "      print('{} é zero.'.format(x))\n",
        "    elif x % 2 == 0:\n",
        "      print('{} é par.'.format(x))\n",
        "    else:\n",
        "      print('{} é impar.'.format(x))\n",
        "\n",
        "par_impar_zero(4)\n",
        "par_impar_zero(7)\n",
        "par_impar_zero(0)"
      ],
      "metadata": {
        "colab": {
          "base_uri": "https://localhost:8080/"
        },
        "outputId": "fec0aa6b-52a8-40ed-ea71-54480d01ba85",
        "id": "dXbGus_GF-Dj"
      },
      "execution_count": null,
      "outputs": [
        {
          "output_type": "stream",
          "name": "stdout",
          "text": [
            "4 é par.\n",
            "7 é impar.\n",
            "0 é zero.\n"
          ]
        }
      ]
    },
    {
      "cell_type": "markdown",
      "source": [
        "3) Crie uma função que verifique se:\n",
        "\n",
        "1.   Um número é maior que 10 **e** menor que 20;\n",
        "2.   Um número é menor ou igual a 10 **ou** maior ou igual a 20;\n",
        "\n",
        "Imprima uma mensagem informando qual condição foi satisfeita e teste as duas condições com pelo menos um exemplo."
      ],
      "metadata": {
        "id": "m7KKqyn-HhtY"
      }
    },
    {
      "cell_type": "code",
      "source": [
        "def verifica_numero(x):\n",
        "  if (x > 10) and (x < 20):\n",
        "    print('{} é maior que 10 e menor que 20.'.format(x))\n",
        "  elif (x <= 10) or (x >= 20):\n",
        "    print('{} é menor ou igual a 10 ou maior ou igual a 20.'.format(x))\n",
        "\n",
        "verifica_numero(15)\n",
        "verifica_numero(1)\n",
        "verifica_numero(20)"
      ],
      "metadata": {
        "colab": {
          "base_uri": "https://localhost:8080/"
        },
        "id": "Vnb-qdJBICtk",
        "outputId": "7e595fed-1d32-46e2-bdf5-8ea1cd09d0cf"
      },
      "execution_count": null,
      "outputs": [
        {
          "output_type": "stream",
          "name": "stdout",
          "text": [
            "15 é maior que 10 e menor que 20.\n",
            "1 é menor ou igual a 10 ou maior ou igual a 20.\n",
            "20 é menor ou igual a 10 ou maior ou igual a 20.\n"
          ]
        }
      ]
    },
    {
      "cell_type": "markdown",
      "source": [
        "4) Crie uma calculadora que dadas duas variáveis numéricas e um identificador que caracteriza uma das quatro operações básicas de Soma, Subtração, Multiplicação e Divisão, imprima o resultado da operação.\n",
        "\n",
        "Caso haja alguma operação inválida (como dividir por zero), imprima a mensagem \"Não tente quebrar esta calculadora básica!\". No caso do operador ser desconhecido, imprima a mensagem \"Operador não reconhecido!\".\n",
        "\n",
        "Chame a função testando todos os operadores e um caso onde haja uma divisão por zero.\n",
        "\n",
        "Considere os seguintes identificadores para os operadores:\n",
        "\n",
        "\n",
        "*   '+' = Soma\n",
        "*   '-' = Subtração\n",
        "*   '*' = Multiplicação\n",
        "*   '/' = Divisão"
      ],
      "metadata": {
        "id": "0AZBom5T8zoF"
      }
    },
    {
      "cell_type": "code",
      "source": [
        "def calculadora_basica(a, b, operador):\n",
        "    if operador == '+':\n",
        "        print('Soma: {}'.format(a+b))\n",
        "    elif operador == '-':\n",
        "        print('Subtração: {}'.format(a-b))\n",
        "    elif operador == '*':\n",
        "        print('Multiplicação: {}'.format(a*b))\n",
        "    elif operador == '/':\n",
        "        if b != 0:\n",
        "          print('Divisão: {}'.format(a/b))\n",
        "        else:\n",
        "          print(\"Não tente quebrar esta calculadora básica!\")\n",
        "    else:\n",
        "        print('Operador não reconhecido!')\n",
        "\n",
        "calculadora_basica(7, 5, '+')\n",
        "calculadora_basica(7, 9, '-')\n",
        "calculadora_basica(505, 4, '*')\n",
        "calculadora_basica(754, 3, \"/\")\n",
        "calculadora_basica(9, 0, \"/\")\n",
        "calculadora_basica(9, 0, \"%\")"
      ],
      "metadata": {
        "colab": {
          "base_uri": "https://localhost:8080/"
        },
        "outputId": "ab9537ad-ac00-4eee-d080-f17574f2b56d",
        "id": "y1r8c0lZ-g9c"
      },
      "execution_count": null,
      "outputs": [
        {
          "output_type": "stream",
          "name": "stdout",
          "text": [
            "Soma: 12\n",
            "Subtração: -2\n",
            "Multiplicação: 2020\n",
            "Divisão: 251.33333333333334\n",
            "Não tente quebrar esta calculadora básica!\n",
            "Operador não reconhecido!\n"
          ]
        }
      ]
    },
    {
      "cell_type": "markdown",
      "source": [
        "### Teste seu Conhecimento"
      ],
      "metadata": {
        "id": "QoDwC9Ld2B8j"
      }
    },
    {
      "cell_type": "markdown",
      "source": [
        "1) Crie um classificador de código de barras, dado um código de 10 dígitos inteiros e positivos em string. A partir deste código, realize a soma de cada um dos dígitos (S) e classifque o código de barras em relação ao tipo de produto que ele pertence, como segue:\n",
        "\n",
        "\n",
        "*   S >= 0 e S<= 20 --> Bomboniére\n",
        "*   S >= 21 e S<= 50 --> Higiene\n",
        "*   S >= 51 e S<= 100 --> Utensílios\n",
        "*   S >= 101 e S<= 500 --> Congelados\n",
        "*   S >= 501 e S<= 1000 --> Bebidas\n",
        "*   S >= 1001 --> Padaria\n",
        "\n"
      ],
      "metadata": {
        "id": "jqzV6BlaAnSx"
      }
    },
    {
      "cell_type": "code",
      "source": [
        "def classifica_codigo_barras(codigo_barras):\n",
        "    soma = 0\n",
        "    for digito in codigo_barras:\n",
        "      soma = soma + int(digito)\n",
        "\n",
        "    if soma >= 0 and soma <= 20:\n",
        "        print(\"Bomboniére\")\n",
        "    elif soma >= 21 and soma <= 50:\n",
        "        print(\"Higiene\")\n",
        "    elif soma >= 51 and soma <= 100:\n",
        "        print(\"Utensílios\")\n",
        "    elif soma >= 101 and soma <= 500:\n",
        "        print(\"Congelados\")\n",
        "    elif soma >= 501 and soma <= 1000:\n",
        "        print(\"Bebidas\")\n",
        "    elif soma >= 1001:\n",
        "        print(\"Padaria\")\n",
        "\n",
        "classifica_codigo_barras('1980001124')\n"
      ],
      "metadata": {
        "colab": {
          "base_uri": "https://localhost:8080/"
        },
        "outputId": "b1118218-8d7f-4506-9288-c0559a579f54",
        "id": "Pk6PIrULAr8p"
      },
      "execution_count": null,
      "outputs": [
        {
          "output_type": "stream",
          "name": "stdout",
          "text": [
            "Higiene\n"
          ]
        }
      ]
    },
    {
      "cell_type": "markdown",
      "source": [
        "## Orientação a Objetos em Python"
      ],
      "metadata": {
        "id": "Dz71PzIMdZbn"
      }
    },
    {
      "cell_type": "markdown",
      "source": [
        "1) Crie uma classe Pessoa que tenha um atributo de classe idade de valor 18. Instancie um objeto Pessoa e imprima a sua idade."
      ],
      "metadata": {
        "id": "wV0codljZNNb"
      }
    },
    {
      "cell_type": "code",
      "execution_count": null,
      "metadata": {
        "colab": {
          "base_uri": "https://localhost:8080/"
        },
        "id": "Vt5pr_ZFZFos",
        "outputId": "15836de4-c3e1-46ac-ddd9-2049580da012"
      },
      "outputs": [
        {
          "output_type": "stream",
          "name": "stdout",
          "text": [
            "18\n"
          ]
        }
      ],
      "source": [
        "class Pessoa:\n",
        "    idade = 18\n",
        "\n",
        "p1 = Pessoa()\n",
        "print(p1.idade)"
      ]
    },
    {
      "cell_type": "markdown",
      "source": [
        "2) Crie uma classe Pessoa que tenha os atributos de instância nome (com valor \"Maria\") e idade (com valor 18). Instancie um objeto Pessoa e imprima seu nome e sua idade. Altere o nome deste objeto e imprima novamente seu nome e sua idade."
      ],
      "metadata": {
        "id": "L7dW9PH9Zzjp"
      }
    },
    {
      "cell_type": "code",
      "source": [
        "class Pessoa:\n",
        "    def __init__(self):\n",
        "        self.nome = \"Maria\"\n",
        "        self.idade = 18\n",
        "\n",
        "p1 = Pessoa()\n",
        "print(p1.nome)\n",
        "print(p1.idade)\n",
        "\n",
        "p1.nome = \"Ana\"\n",
        "print(p1.nome)\n",
        "print(p1.idade)"
      ],
      "metadata": {
        "colab": {
          "base_uri": "https://localhost:8080/"
        },
        "id": "d-lHeoB3aIGm",
        "outputId": "ed92438d-4f44-45a3-cb82-1544c69100c9"
      },
      "execution_count": null,
      "outputs": [
        {
          "output_type": "stream",
          "name": "stdout",
          "text": [
            "Maria\n",
            "18\n",
            "Ana\n",
            "18\n"
          ]
        }
      ]
    },
    {
      "cell_type": "markdown",
      "source": [
        "3) Crie uma classe Pessoa que tenha os atributos de instância nome e idade, cujos valores devem ser recebidos via construtor. Instancie um objeto Pessoa e imprima seu nome e sua idade. Altere o nome deste objeto e imprima novamente seu nome e sua idade."
      ],
      "metadata": {
        "id": "oWxqCIKEaHmw"
      }
    },
    {
      "cell_type": "code",
      "source": [
        "class Pessoa:\n",
        "    def __init__(self, nome, idade):\n",
        "        self.nome = nome\n",
        "        self.idade = idade\n",
        "\n",
        "p1 = Pessoa(\"Pedro\", 36)\n",
        "print(p1.nome)\n",
        "print(p1.idade)\n",
        "\n",
        "p1.nome = \"Marcos\"\n",
        "print(p1.nome)\n",
        "print(p1.idade)"
      ],
      "metadata": {
        "colab": {
          "base_uri": "https://localhost:8080/"
        },
        "id": "O3V7-VmEaxh1",
        "outputId": "58e3bef5-9efe-4919-f157-3a7b1b866e88"
      },
      "execution_count": null,
      "outputs": [
        {
          "output_type": "stream",
          "name": "stdout",
          "text": [
            "Pedro\n",
            "36\n",
            "Marcos\n",
            "36\n"
          ]
        }
      ]
    },
    {
      "cell_type": "markdown",
      "source": [
        "4) Crie uma classe Pessoa similar à do exercício 3, mas incluindo um método faz_apresentacao que imprima \"Olá, meu nome é [nome da pessoa]\". Instancie um objeto Pessoa e chame este método. Altere o nome deste objeto e chame novamente este método."
      ],
      "metadata": {
        "id": "5bVMrIS7bn7a"
      }
    },
    {
      "cell_type": "code",
      "source": [
        "# [OBS] talvez incentivar o uso de um getter e setter (acho que é boa prática pra Python)"
      ],
      "metadata": {
        "id": "XaHXbXnUFFw2"
      },
      "execution_count": null,
      "outputs": []
    },
    {
      "cell_type": "code",
      "source": [
        "class Pessoa:\n",
        "    def __init__(self, nome, idade):\n",
        "        self.nome = nome\n",
        "        self.idade = idade\n",
        "\n",
        "    def faz_apresentacao(self):\n",
        "        print(\"Olá, meu nome é \" + self.nome)\n",
        "\n",
        "p1 = Pessoa(\"Pedro\", 36)\n",
        "p1.faz_apresentacao()\n",
        "\n",
        "p1.nome = \"Marcos\"\n",
        "p1.faz_apresentacao()"
      ],
      "metadata": {
        "colab": {
          "base_uri": "https://localhost:8080/"
        },
        "id": "3XWcsLLFb4di",
        "outputId": "06e811c6-e2e5-4e91-85fc-b84fa72a8c0d"
      },
      "execution_count": null,
      "outputs": [
        {
          "output_type": "stream",
          "name": "stdout",
          "text": [
            "Olá, meu nome é Pedro\n",
            "Olá, meu nome é Marcos\n"
          ]
        }
      ]
    },
    {
      "cell_type": "markdown",
      "source": [
        "5) Crie uma classe Empregado como subclasse de Pessoa (do exercício 4). Instancie um objeto Empregado e chame o método faz_apresentacao."
      ],
      "metadata": {
        "id": "_v731uxUcars"
      }
    },
    {
      "cell_type": "code",
      "source": [
        "class Empregado(Pessoa):\n",
        "    pass\n",
        "\n",
        "e1 = Empregado(\"Thiago\", 45)\n",
        "e1.faz_apresentacao()"
      ],
      "metadata": {
        "colab": {
          "base_uri": "https://localhost:8080/"
        },
        "id": "rGCENiuwcqWh",
        "outputId": "849989c3-14e3-414e-f3f0-9fa5ace6b95c"
      },
      "execution_count": null,
      "outputs": [
        {
          "output_type": "stream",
          "name": "stdout",
          "text": [
            "Olá, meu nome é Thiago\n"
          ]
        }
      ]
    },
    {
      "cell_type": "markdown",
      "source": [
        "6) Altere sua classe Empregado do exercício 6 para incluir o atributo de instância matricula, que deverá ser preenchido ao criar um objeto Empregado. Agora, o construtor de Empregado deverá chamar o construtor da sua superclasse. Crie também o método bater_ponto, que usa o nome e a matricula do empregado para \"bater ponto\". Instancie um objeto Empregado e chame o método bater_ponto."
      ],
      "metadata": {
        "id": "twz_FI7cdDdz"
      }
    },
    {
      "cell_type": "code",
      "source": [
        "class Empregado(Pessoa):\n",
        "    def __init__(self, nome, idade, matricula):\n",
        "        super().__init__(nome, idade)   # ou Pessoa.__init__(nome, idade)\n",
        "        self.matricula = matricula\n",
        "\n",
        "    def bater_ponto(self):\n",
        "        print(\"Empregado %s, matrícula %s batendo ponto!\" % (self.nome, self.matricula))\n",
        "\n",
        "\n",
        "e1 = Empregado(\"Gabriel\", 39, 12345)\n",
        "e1.bater_ponto()"
      ],
      "metadata": {
        "colab": {
          "base_uri": "https://localhost:8080/"
        },
        "id": "AOknQUE7dDji",
        "outputId": "2631420c-585d-430e-ac2d-8bd690848de8"
      },
      "execution_count": null,
      "outputs": [
        {
          "output_type": "stream",
          "name": "stdout",
          "text": [
            "Empregado Gabriel, matrícula 12345 batendo ponto!\n"
          ]
        }
      ]
    },
    {
      "cell_type": "markdown",
      "source": [
        "7) Crie uma classe **Cachorro** com atributos de instância *tamanho*, *raca*, *nome* e o método latir, que lata de forma diferente de acordo com o tamanho do cachorro.\n",
        "\n",
        "Depois, crie 3 objetos do tipo Cachorro, variando seus tamanhos, e faça-os latir."
      ],
      "metadata": {
        "id": "KJTV4VpBr91c"
      }
    },
    {
      "cell_type": "code",
      "source": [
        "class Cachorro:\n",
        "    def __init__(self, tamanho, raca, nome):\n",
        "        self.tamanho = tamanho\n",
        "        self.raca = raca\n",
        "        self.nome = nome\n",
        "\n",
        "    def latir(self):\n",
        "        if self.tamanho < 40:\n",
        "            print(\"< Som de latido agudo >\")\n",
        "        elif self.tamanho > 100:\n",
        "            print(\"< Som de latido grave >\")\n",
        "        else:\n",
        "            print(\"< Som de latido médio >\")"
      ],
      "metadata": {
        "id": "6-mrltqFr9VB"
      },
      "execution_count": null,
      "outputs": []
    },
    {
      "cell_type": "code",
      "source": [
        "cachorro_pequeno = Cachorro(10, \"poodle\", \"Belinha\")\n",
        "cachorro_medio = Cachorro(60, \"vira-lata\", \"Laila\")\n",
        "cachorro_grande = Cachorro(120, \"labrador\", \"Zeus\")\n",
        "\n",
        "cachorro_pequeno.latir()\n",
        "cachorro_medio.latir()\n",
        "cachorro_grande.latir()"
      ],
      "metadata": {
        "colab": {
          "base_uri": "https://localhost:8080/"
        },
        "id": "cLWSp1IyhoLn",
        "outputId": "d5f1cbd5-ad90-4591-b879-5da56462ddd8"
      },
      "execution_count": null,
      "outputs": [
        {
          "output_type": "stream",
          "name": "stdout",
          "text": [
            "< Som de latido agudo >\n",
            "< Som de latido médio >\n",
            "< Som de latido grave >\n"
          ]
        }
      ]
    },
    {
      "cell_type": "markdown",
      "source": [
        "8) Crie uma classe **Pessoa** com o atributo de instância non-public *nome* e o método *consulta_nome*. Crie também uma classe **Conta** com os atributos de instância non-public *numero*, *saldo*, *titular*, *senha* e os métodos *consulta_numero*, *consulta_saldo*, *consulta_titular*, *consulta_senha* e *sacar*.\n",
        "\n",
        "O método *sacar* deve receber um valor e uma senha. Se a senha informada for igual à senha da conta, o saque é permitido, mas se o saldo passar a ficar negativo, deve-se imprimir uma mensagem que está no cheque especial.\n",
        "\n",
        "Em seguida, instancie uma pessoa e sua conta, e realize as seguintes operações nesta conta:\n",
        "\n",
        "*   consulte o saldo\n",
        "*   tente sacar 100 com a senha errada\n",
        "*   consulte o saldo novamente\n",
        "*   tente sacar 100 com a senha certa\n",
        "*   consulte o saldo novamente\n",
        "*   tente sacar um valor maior do que o saldo com a senha certa\n",
        "*   consulte o saldo novamente"
      ],
      "metadata": {
        "id": "OVpwu438c8u4"
      }
    },
    {
      "cell_type": "code",
      "source": [
        "class Pessoa:\n",
        "\n",
        "    def __init__(self, nome):\n",
        "        self.__nome = nome\n",
        "\n",
        "    def consulta_nome(self):\n",
        "        return self.__nome\n",
        "\n",
        "\n",
        "class Conta:\n",
        "\n",
        "    def __init__(self, numero, saldo, titular, senha):\n",
        "        self.__numero = numero\n",
        "        self.__saldo = saldo\n",
        "        self.__titular = titular\n",
        "        self.__senha = senha\n",
        "\n",
        "    def consulta_numero(self):\n",
        "        return self.__numero\n",
        "\n",
        "    def consulta_saldo(self):\n",
        "        print(\"Seu saldo é R$ %.2f\" % self.__saldo)\n",
        "\n",
        "    def consulta_titular(self):\n",
        "        return self.__titular\n",
        "\n",
        "    def consulta_senha(self):\n",
        "        return self.__senha\n",
        "\n",
        "    def sacar(self, valor, senha_informada):\n",
        "        if senha_informada == self.__senha:\n",
        "            self.__saldo -= valor\n",
        "            print(\"Saque realizado!\")\n",
        "            if self.__saldo < 0:\n",
        "                print(\"Você está no cheque especial!\")\n",
        "        else:\n",
        "            print(\"Senha incorreta!\")"
      ],
      "metadata": {
        "id": "IafK6Nnxc808"
      },
      "execution_count": null,
      "outputs": []
    },
    {
      "cell_type": "code",
      "source": [
        "# Criando uma pessoa e sua conta\n",
        "pessoa = Pessoa(\"Tatiana\")\n",
        "conta = Conta(1234, 750.84, pessoa, 123)\n",
        "\n",
        "conta.consulta_saldo() # saldo 750.84\n",
        "conta.sacar(100, 456) # tentando sacar 100 com a senha errada\n",
        "conta.consulta_saldo() # saldo continua o mesmo\n",
        "conta.sacar(100, 123) # tentando sacar 100 com a senha certa\n",
        "conta.consulta_saldo() # saldo agora é 650.84\n",
        "conta.sacar(1000, 123) # tentando sacar 1000 com a senha certa, vai entrar no especial\n",
        "conta.consulta_saldo() # saldo agora é -349.16\n"
      ],
      "metadata": {
        "colab": {
          "base_uri": "https://localhost:8080/"
        },
        "id": "kngLl-lyecRC",
        "outputId": "cb359041-25b5-4c0b-8b0f-f5add0402936"
      },
      "execution_count": null,
      "outputs": [
        {
          "output_type": "stream",
          "name": "stdout",
          "text": [
            "Seu saldo é R$ 750.84\n",
            "Senha incorreta!\n",
            "Seu saldo é R$ 750.84\n",
            "Saque realizado!\n",
            "Seu saldo é R$ 650.84\n",
            "Saque realizado!\n",
            "Você está no cheque especial!\n",
            "Seu saldo é R$ -349.16\n"
          ]
        }
      ]
    }
  ]
}