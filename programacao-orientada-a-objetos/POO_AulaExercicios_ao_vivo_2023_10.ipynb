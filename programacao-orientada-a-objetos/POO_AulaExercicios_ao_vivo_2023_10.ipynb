{
  "nbformat": 4,
  "nbformat_minor": 0,
  "metadata": {
    "colab": {
      "provenance": [],
      "include_colab_link": true
    },
    "kernelspec": {
      "name": "python3",
      "display_name": "Python 3"
    },
    "language_info": {
      "name": "python"
    }
  },
  "cells": [
    {
      "cell_type": "markdown",
      "metadata": {
        "id": "view-in-github",
        "colab_type": "text"
      },
      "source": [
        "<a href=\"https://colab.research.google.com/github/gabrielliosc/puc-estudos/blob/main/programacao-orientada-a-objetos/POO_AulaExercicios_ao_vivo_2023_10.ipynb\" target=\"_parent\"><img src=\"https://colab.research.google.com/assets/colab-badge.svg\" alt=\"Open In Colab\"/></a>"
      ]
    },
    {
      "cell_type": "markdown",
      "source": [
        "# Programação Orientada a Objetos\n",
        "## Prof. Tatiana Escovedo\n",
        "## Prof. Assistente Antonio Pedro\n",
        "\n",
        "---\n",
        "\n",
        "## Aula Prática de Exercícios"
      ],
      "metadata": {
        "id": "sQaoCezowYOq"
      }
    },
    {
      "cell_type": "markdown",
      "source": [
        "## Prática 1)\n",
        "\n",
        "Vamos criar uma biblioteca de artigos científicos que armazene as publicações de autores e imprima a lista de artigos cadastrados em formato de citação bibliográfica, sendo que:\n",
        "- O **Autor** tem os atributos *nome_completo*, *nome_citacao*, *afiliacao*.\n",
        "- O **Artigo** tem *titulo*, *autor*, *ano_publicacao* (nesta primeira versão do programa, assuma que cada artigo só pode ter um autor)."
      ],
      "metadata": {
        "id": "aqFy2Y8gWO1q"
      }
    },
    {
      "cell_type": "code",
      "source": [
        "class Autor:\n",
        "\n",
        "    def __init__(self, nome_completo, nome_citacao, afiliacao):\n",
        "        self.__nome_completo = nome_completo\n",
        "        self.__nome_citacao = nome_citacao\n",
        "        self.__afiliacao = afiliacao\n",
        "\n",
        "    def consultar_nome_completo(self):\n",
        "        return self.__nome_completo\n",
        "\n",
        "    def consultar_nome_citacao(self):\n",
        "        return self.__nome_citacao\n",
        "\n",
        "    def consultar_afiliacao(self):\n",
        "        return self.__afiliacao\n",
        "\n",
        "\n",
        "class Artigo:\n",
        "\n",
        "    def __init__(self, titulo, autor, ano_publicacao):\n",
        "        self.__titulo = titulo\n",
        "        self.__autor = autor\n",
        "        self.__ano_publicacao = ano_publicacao\n",
        "\n",
        "    # poderíamos criar aqui os métodos consultar...\n",
        "\n",
        "    def imprimir_citacao(self):\n",
        "        # ESCOVEDO, T., Aprenda Python Hoje, 2023.\n",
        "        # [NOME CITAÇÃO], [TÍTULO DO ARTIGO], [ANO PUBLICAÇÃO].\n",
        "        print(\"{}, {}, {}.\".format(self.__autor.consultar_nome_citacao(), self.__titulo, self.__ano_publicacao))\n",
        "\n",
        "class Biblioteca:\n",
        "\n",
        "    def __init__(self):\n",
        "        self.__artigos = [] # vai armazenar a lista de artigos\n",
        "\n",
        "    # Armazenar as publicações\n",
        "    def publicar_artigo(self, artigo):\n",
        "        # incluir o artigo recebido na lista de artigos da biblioteca\n",
        "        self.__artigos.append(artigo)\n",
        "        print(\"*** Artigo publicado com sucesso!\") # PARA CASA: INCLUIR O NOME DO ARTIGO NESTA MSG\n",
        "\n",
        "    # Imprimir lista de artigos armazenados\n",
        "    def imprimir_lista_artigos(self):\n",
        "        # se não tiver nenhum artigo na lista, imprime mensagem de erro\n",
        "        if len(self.__artigos) == 0:\n",
        "            print(\"\\n=== Não há artigos cadastrados nesta biblioteca!\")\n",
        "        else:\n",
        "            print(\"\\n=== Artigos cadastrados nesta biblioteca:\")\n",
        "            # para cada artigo da lista\n",
        "            for artigo in self.__artigos:\n",
        "                # imprimir a citação\n",
        "                artigo.imprimir_citacao()"
      ],
      "metadata": {
        "id": "0Dyk6HR80FsC"
      },
      "execution_count": null,
      "outputs": []
    },
    {
      "cell_type": "code",
      "source": [
        "biblioteca = Biblioteca()\n",
        "\n",
        "autor_1 = Autor(\"Tatiana Escovedo\", \"ESCOVEDO, T.\", \"PUC-Rio\")\n",
        "autor_2 = Autor(\"Marcos Kalinowski\", \"KALINOWSKI, M.\", \"PUC-Rio\")\n",
        "\n",
        "artigo_1 = Artigo(\"Aprenda Python Hoje\", autor_1, 2023)\n",
        "artigo_2 = Artigo(\"Aprenda Engenharia de Software Hoje\", autor_2, 2022)\n",
        "artigo_3 = Artigo(\"Aprenda Ballet Hoje\", autor_1, 2020)\n",
        "\n",
        "# Imprimindo a lista de artigos da biblioteca\n",
        "biblioteca.imprimir_lista_artigos() # não imprime nenhum artigo!\n",
        "\n",
        "# Publicando os artigos\n",
        "biblioteca.publicar_artigo(artigo_1)\n",
        "biblioteca.publicar_artigo(artigo_2)\n",
        "\n",
        "# Imprimindo a lista de artigos da biblioteca\n",
        "biblioteca.imprimir_lista_artigos() # imprime 2 artigos\n",
        "\n",
        "# PARA CASA: inclua no artigo o atributo \"tema\" e crie várias várias bibliotecas temáticas\n",
        "# OU criar categorias dentro da mesma biblioteca\n",
        "\n",
        "# PARA CASA: impedir que um mesmo artigo seja adicionado mais de uma vez na mesma biblioteca"
      ],
      "metadata": {
        "id": "KMeY9N7WP-rT",
        "colab": {
          "base_uri": "https://localhost:8080/"
        },
        "outputId": "6e4fe53f-c38a-406b-e793-af3c65616dc9"
      },
      "execution_count": null,
      "outputs": [
        {
          "output_type": "stream",
          "name": "stdout",
          "text": [
            "\n",
            "=== Não há artigos cadastrados nesta biblioteca!\n",
            "*** Artigo publicado com sucesso!\n",
            "*** Artigo publicado com sucesso!\n",
            "\n",
            "=== Artigos cadastrados nesta biblioteca:\n",
            "ESCOVEDO, T., Aprenda Python Hoje, 2023.\n",
            "KALINOWSKI, M., Aprenda Engenharia de Software Hoje, 2022.\n"
          ]
        }
      ]
    },
    {
      "cell_type": "markdown",
      "source": [
        "## Prática 2)\n",
        "\n",
        "Altere seu programa da Prática 1 para permitir que cada artigo tenha mais de um autor. Dica: use uma lista."
      ],
      "metadata": {
        "id": "Gr_vYIKRIqNV"
      }
    },
    {
      "cell_type": "code",
      "source": [
        "class Autor: # Sem alterações!\n",
        "\n",
        "    def __init__(self, nome_completo, nome_citacao, afiliacao):\n",
        "        self.__nome_completo = nome_completo\n",
        "        self.__nome_citacao = nome_citacao\n",
        "        self.__afiliacao = afiliacao\n",
        "\n",
        "    def consultar_nome_completo(self):\n",
        "        return self.__nome_completo\n",
        "\n",
        "    def consultar_nome_citacao(self):\n",
        "        return self.__nome_citacao\n",
        "\n",
        "    def consultar_afiliacao(self):\n",
        "        return self.__afiliacao\n",
        "\n",
        "\n",
        "class Artigo:\n",
        "\n",
        "    def __init__(self, titulo, autores, ano_publicacao):\n",
        "        self.__titulo = titulo\n",
        "        self.__autores = autores\n",
        "        self.__ano_publicacao = ano_publicacao\n",
        "\n",
        "    # poderíamos criar aqui os métodos consultar...\n",
        "\n",
        "    def imprimir_citacao(self):\n",
        "        # ESCOVEDO, T., KALINOWSKI, M., ALVES, A. P. S., Aprenda Python Hoje, 2023.\n",
        "        # [NOME CITAÇÃO 1]...[NOME CITAÇÃO N], [TÍTULO DO ARTIGO], [ANO PUBLICAÇÃO].\n",
        "\n",
        "        lista_autores = \"\"\n",
        "        # para cada autor na lista de autores\n",
        "        for autor in self.__autores:\n",
        "            # concatenar em lista_autores o nome_citacao\n",
        "            lista_autores += autor.consultar_nome_citacao()\n",
        "            lista_autores += \", \"\n",
        "        # quando terminar o for, lista_autores tem a lista completa\n",
        "        # ESCOVEDO, T., KALINOWSKI, M., ALVES, A. P. S.,\n",
        "\n",
        "        # requisito novo: título do artigo em caixa alta!\n",
        "        print(\"{}{}, {}.\".format(lista_autores, self.__titulo.upper(), self.__ano_publicacao))\n",
        "\n",
        "class Biblioteca: # Sem alterações\n",
        "\n",
        "    def __init__(self):\n",
        "        self.__artigos = [] # vai armazenar a lista de artigos\n",
        "\n",
        "    # Armazenar as publicações\n",
        "    def publicar_artigo(self, artigo):\n",
        "        # incluir o artigo recebido na lista de artigos da biblioteca\n",
        "        self.__artigos.append(artigo)\n",
        "        print(\"*** Artigo publicado com sucesso!\") # PARA CASA: INCLUIR O NOME DO ARTIGO NESTA MSG\n",
        "\n",
        "    # Imprimir lista de artigos armazenados\n",
        "    def imprimir_lista_artigos(self):\n",
        "        # se não tiver nenhum artigo na lista, imprime mensagem de erro\n",
        "        if len(self.__artigos) == 0:\n",
        "            print(\"\\n=== Não há artigos cadastrados nesta biblioteca!\")\n",
        "        else:\n",
        "            print(\"\\n=== Artigos cadastrados nesta biblioteca:\")\n",
        "            # para cada artigo da lista\n",
        "            for artigo in self.__artigos:\n",
        "                # imprimir a citação\n",
        "                artigo.imprimir_citacao()"
      ],
      "metadata": {
        "id": "ZeEyVR8lIq9N"
      },
      "execution_count": null,
      "outputs": []
    },
    {
      "cell_type": "code",
      "source": [
        "biblioteca = Biblioteca()\n",
        "\n",
        "autor_1 = Autor(\"Tatiana Escovedo\", \"ESCOVEDO, T.\", \"PUC-Rio\")\n",
        "autor_2 = Autor(\"Marcos Kalinowski\", \"KALINOWSKI, M.\", \"PUC-Rio\")\n",
        "autor_3 = Autor(\"Sérgio Lifschitz\", \"LIFSCHITZ, S.\", \"PUC-Rio\")\n",
        "autor_4 = Autor(\"Antonio Pedro Santos Alves\", \"ALVES, A. P. S.\", \"PUC-Rio\")\n",
        "\n",
        "artigo_1 = Artigo(\"Aprenda Python Hoje\", [autor_1, autor_2, autor_4], 2023)\n",
        "artigo_2 = Artigo(\"Aprenda Engenharia de Software Hoje\", [autor_2], 2022)\n",
        "artigo_3 = Artigo(\"Aprenda Ballet Hoje\", [autor_1, autor_3], 2020)\n",
        "# PARA CASA: impedir que um artigo tenha dois autores iguais\n",
        "\n",
        "# Imprimindo a lista de artigos da biblioteca\n",
        "biblioteca.imprimir_lista_artigos() # não imprime nenhum artigo!\n",
        "\n",
        "# Publicando os artigos\n",
        "biblioteca.publicar_artigo(artigo_1)\n",
        "biblioteca.publicar_artigo(artigo_2)\n",
        "biblioteca.publicar_artigo(artigo_3)\n",
        "\n",
        "# Imprimindo a lista de artigos da biblioteca\n",
        "biblioteca.imprimir_lista_artigos() # imprime 3 artigos"
      ],
      "metadata": {
        "colab": {
          "base_uri": "https://localhost:8080/"
        },
        "id": "XVoyKQmnXRfp",
        "outputId": "f2434cab-8820-44b9-9958-8240baf62af0"
      },
      "execution_count": null,
      "outputs": [
        {
          "output_type": "stream",
          "name": "stdout",
          "text": [
            "\n",
            "=== Não há artigos cadastrados nesta biblioteca!\n",
            "*** Artigo publicado com sucesso!\n",
            "*** Artigo publicado com sucesso!\n",
            "*** Artigo publicado com sucesso!\n",
            "\n",
            "=== Artigos cadastrados nesta biblioteca:\n",
            "ESCOVEDO, T., KALINOWSKI, M., ALVES, A. P. S., APRENDA PYTHON HOJE, 2023.\n",
            "KALINOWSKI, M., APRENDA ENGENHARIA DE SOFTWARE HOJE, 2022.\n",
            "ESCOVEDO, T., LIFSCHITZ, S., APRENDA BALLET HOJE, 2020.\n"
          ]
        }
      ]
    },
    {
      "cell_type": "markdown",
      "source": [
        "## Prática 3)\n",
        "\n",
        "Altere seu programa da Prática 2 tornando a classe **Artigo** abstrata, com o método *formatar_citacao* também abstrato. Crie na classe **Artigo** métodos públicos para permitir a consulta das variáveis de instância non-public nas subclasses.\n",
        "\n",
        "Crie duas subclasses de Artigo: **ArtigoConferencia** deve ter o atributo *local_evento* e **ArtigoPeriodico** o atributo *issn*. Implemente em cada uma das classes a sua versão específica do método *formatar_citacao*.\n",
        "\n",
        "Teste o programa criando artigos, adicionando-os à biblioteca e imprimindo a lista de artigos da biblioteca."
      ],
      "metadata": {
        "id": "_K85F0acthsw"
      }
    },
    {
      "cell_type": "markdown",
      "source": [
        "## Prática 4)\n",
        "\n",
        "Altere seu programa da Prática 3 para:\n",
        "- permitir saber qual é o artigo com o maior número de autores\n",
        "- dado um autor, saber quais artigos ele publicou"
      ],
      "metadata": {
        "id": "faFLDvMbtuEf"
      }
    },
    {
      "cell_type": "markdown",
      "source": [
        "## Bônus (fora do escopo da disciplina)!\n",
        "\n",
        "Conexão do Python com Banco de Dados SQLite"
      ],
      "metadata": {
        "id": "eLno9T9JPzCk"
      }
    },
    {
      "cell_type": "code",
      "source": [
        "# importação da bibloteca do SQLite\n",
        "import sqlite3 # importando sem alias\n",
        "\n",
        "# criar conexão (irá criar ou abrir o arquivo .db do banco de dados)\n",
        "con = sqlite3.connect(\"carsdb.db\")\n",
        "\n",
        "# o cursor permite percorrer os registros de um banco de dados\n",
        "c = con.cursor()\n",
        "\n",
        "# criar uma tabela\n",
        "c.execute(\"create table if not exists cars(brand text, price text)\")\n",
        "\n",
        "# inserir registros na tabela\n",
        "c.execute(\"insert into cars (brand, price) values ('bmw', 3000)\")\n",
        "c.execute(\"insert into cars (brand, price) values ('etios', 1000)\")\n",
        "\n",
        "# fazer o commit\n",
        "con.commit()\n",
        "\n",
        "# executar select * na tabela\n",
        "result = c.execute(\"select * from cars\")\n",
        "\n",
        "# imprimir a primeira linha do select\n",
        "#print(result.fetchone())\n",
        "\n",
        "# imprimir TODAS as linhas da tabela\n",
        "print(result.fetchall())\n",
        "\n",
        "# fechar a conexão\n",
        "con.close()"
      ],
      "metadata": {
        "id": "yTmQPHCOwlpv"
      },
      "execution_count": null,
      "outputs": []
    }
  ]
}