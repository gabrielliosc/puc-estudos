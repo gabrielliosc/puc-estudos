{
  "nbformat": 4,
  "nbformat_minor": 0,
  "metadata": {
    "colab": {
      "provenance": [],
      "toc_visible": true,
      "collapsed_sections": [
        "QScVmFMs09Fs",
        "L41hfb2N1Jhy",
        "Gmk0AKmf1OSF",
        "oIRxBM_C1UeE",
        "QoDwC9Ld2B8j"
      ],
      "include_colab_link": true
    },
    "kernelspec": {
      "name": "python3",
      "display_name": "Python 3"
    },
    "language_info": {
      "name": "python"
    }
  },
  "cells": [
    {
      "cell_type": "markdown",
      "metadata": {
        "id": "view-in-github",
        "colab_type": "text"
      },
      "source": [
        "<a href=\"https://colab.research.google.com/github/gabrielliosc/puc-estudos/blob/main/POO_Exercicios_Feito_24_10_23.ipynb\" target=\"_parent\"><img src=\"https://colab.research.google.com/assets/colab-badge.svg\" alt=\"Open In Colab\"/></a>"
      ]
    },
    {
      "cell_type": "markdown",
      "source": [
        "# Programação Orientada a Objetos\n",
        "## Prof. Tatiana Escovedo\n",
        "## Prof. Assistente Antonio Pedro\n",
        "\n",
        "---\n",
        "\n",
        "## Exercícios Básicos de Fixação\n",
        "\n",
        "***(Lista permanentemente em construção. Se quiser sugerir um exercício entre em contato com os professores.)***"
      ],
      "metadata": {
        "id": "qWvghOA0ZHgx"
      }
    },
    {
      "cell_type": "markdown",
      "source": [
        "## Básico de Python"
      ],
      "metadata": {
        "id": "mECl2y1Sfta8"
      }
    },
    {
      "cell_type": "markdown",
      "source": [
        "### Tipos de Variáveis e Operações"
      ],
      "metadata": {
        "id": "QScVmFMs09Fs"
      }
    },
    {
      "cell_type": "markdown",
      "source": [
        "1) Crie e inicialize duas variáveis inteiras e imprima a sua soma."
      ],
      "metadata": {
        "id": "rKPIhXWcfvTB"
      }
    },
    {
      "cell_type": "code",
      "source": [
        "a = 10\n",
        "b = 2\n",
        "\n",
        "print(a + b)"
      ],
      "metadata": {
        "colab": {
          "base_uri": "https://localhost:8080/"
        },
        "id": "WJsIeTZs5-R6",
        "outputId": "ff38e5d7-b39c-46c4-a7b4-72d4b5b8f1d3"
      },
      "execution_count": 1,
      "outputs": [
        {
          "output_type": "stream",
          "name": "stdout",
          "text": [
            "12\n"
          ]
        }
      ]
    },
    {
      "cell_type": "markdown",
      "source": [
        "2) Crie e inicialize duas variáveis com algum texto e tente imprimir a soma dessas variáveis.\n"
      ],
      "metadata": {
        "id": "RVTxwwgl4Yji"
      }
    },
    {
      "cell_type": "code",
      "source": [
        "a = 'Texto 1'\n",
        "b = 'Texto 2'\n",
        "\n",
        "print(a + b)"
      ],
      "metadata": {
        "colab": {
          "base_uri": "https://localhost:8080/"
        },
        "id": "t3No3TiQ6LoK",
        "outputId": "f6bea269-c4f3-417e-c1d3-997666339c2b"
      },
      "execution_count": 2,
      "outputs": [
        {
          "output_type": "stream",
          "name": "stdout",
          "text": [
            "Texto 1Texto 2\n"
          ]
        }
      ]
    },
    {
      "cell_type": "markdown",
      "source": [
        "3) Crie e inicialize três variáveis que armazenem, respectivamente, uma mensagem de boas vindas (*boas_vindas* como String), o nome (*nome_usuario* como String) e o saldo (*saldo_usuario* como Inteiro ou Float) de um usuário no banco. Imprima essas três variáveis no seguinte formato:\n",
        "\n",
        "'*boas_vindas*, *nome_usuario*. Seu saldo é de R$ *saldo_usuario*.'"
      ],
      "metadata": {
        "id": "_KBY8mI759FI"
      }
    },
    {
      "cell_type": "code",
      "source": [
        "boas_vindas = 'Boas Vindas'\n",
        "nome_usuario = 'Carla'\n",
        "saldo_usuario = '3000'\n",
        "\n",
        "print(boas_vindas + ',' + nome_usuario + '. Seu saldo é R$ ' + saldo_usuario)"
      ],
      "metadata": {
        "colab": {
          "base_uri": "https://localhost:8080/"
        },
        "id": "_KacuJdh6TBe",
        "outputId": "b922451d-1ba1-4531-febe-329fe4a98d0e"
      },
      "execution_count": 3,
      "outputs": [
        {
          "output_type": "stream",
          "name": "stdout",
          "text": [
            "Boas Vindas,Carla. Seu saldo é R$ 3000\n"
          ]
        }
      ]
    },
    {
      "cell_type": "markdown",
      "source": [
        "4) Crie e inicialize uma variável com algum texto e imprima quantos caracteres tem esse texto."
      ],
      "metadata": {
        "id": "nfjuxz3LJ5HP"
      }
    },
    {
      "cell_type": "code",
      "source": [
        "a = 'Texto exemplo'\n",
        "\n",
        "print(len(a))"
      ],
      "metadata": {
        "colab": {
          "base_uri": "https://localhost:8080/"
        },
        "id": "yR_czUcZ7M3D",
        "outputId": "ea1aaae7-d746-463b-e333-7b1c5cbc3dd8"
      },
      "execution_count": 5,
      "outputs": [
        {
          "output_type": "stream",
          "name": "stdout",
          "text": [
            "13\n"
          ]
        }
      ]
    },
    {
      "cell_type": "markdown",
      "source": [
        "### Funções"
      ],
      "metadata": {
        "id": "L41hfb2N1Jhy"
      }
    },
    {
      "cell_type": "markdown",
      "source": [
        "1) Crie uma função chamada *hello_world* que imprime uma mensagem de boas-vindas. Teste sua função a chamando uma única vez."
      ],
      "metadata": {
        "id": "55d4j_g_9YLe"
      }
    },
    {
      "cell_type": "code",
      "source": [
        "def hello_world():\n",
        "  print('Hello, World!')\n",
        "\n",
        "hello_world()"
      ],
      "metadata": {
        "colab": {
          "base_uri": "https://localhost:8080/"
        },
        "id": "M9OrVJO48AV7",
        "outputId": "d4ae2918-bd89-4bfe-ffab-911c1e7498e5"
      },
      "execution_count": 6,
      "outputs": [
        {
          "output_type": "stream",
          "name": "stdout",
          "text": [
            "Hello, World!\n"
          ]
        }
      ]
    },
    {
      "cell_type": "markdown",
      "source": [
        "2) Crie uma função que não recebe nenhum parâmetro e imprima um número aleatório sempre que for chamada no seguinte formato:\n",
        "\n",
        "'Número Gerado: *numero_aleatorio*'\n",
        "\n",
        "Teste sua função a chamando, pelo menos, duas vezes."
      ],
      "metadata": {
        "id": "SS_qHXcj7936"
      }
    },
    {
      "cell_type": "code",
      "source": [
        "import random\n",
        "def gera_numero():\n",
        "  numero_aleatorio = random.randrange(100)\n",
        "  print('Número Gerado:' + str(numero_aleatorio))\n",
        "\n",
        "gera_numero()\n",
        "gera_numero()"
      ],
      "metadata": {
        "colab": {
          "base_uri": "https://localhost:8080/"
        },
        "id": "LaUhSTCD8O3N",
        "outputId": "9414c03f-a8b7-47a1-83a9-c6ebb34d3399"
      },
      "execution_count": 11,
      "outputs": [
        {
          "output_type": "stream",
          "name": "stdout",
          "text": [
            "Número Gerado:36\n",
            "Número Gerado:38\n"
          ]
        }
      ]
    },
    {
      "cell_type": "markdown",
      "source": [
        "3) Crie uma função que receba duas variáveis inteiras e retorne a sua soma.Imprima a seguinte mensagem com o resultado da *soma*.\n",
        "\n",
        "'A soma total foi *soma*!'\n",
        "\n",
        "Teste sua função passando dois inteiros."
      ],
      "metadata": {
        "id": "xFO_cx1VgEme"
      }
    },
    {
      "cell_type": "code",
      "source": [
        "def soma(a,b):\n",
        "  return a + b\n",
        "\n",
        "soma = soma(2,4)\n",
        "print('A soma total foi ' + str(soma))"
      ],
      "metadata": {
        "colab": {
          "base_uri": "https://localhost:8080/"
        },
        "id": "5SZkgLrE9m_n",
        "outputId": "7800f41f-8174-48d4-9dd7-44b4757389ca"
      },
      "execution_count": 13,
      "outputs": [
        {
          "output_type": "stream",
          "name": "stdout",
          "text": [
            "A soma total foi 6\n"
          ]
        }
      ]
    },
    {
      "cell_type": "markdown",
      "source": [
        "4) Crie quatro funções que recebem duas variáveis inteiras e realizam as quatro\n",
        "\n",
        "operações básicas de soma, subtração, multiplicação e divisão. Retorne, para cada função, o resultado da operação e imprima seu resultado em alguma mensagem, capaz de distinguir as quatro operações. Teste cada uma das funções com pelo menos um exemplo.\n",
        "\n",
        "No caso da divisão, não é necessário tratar o caso de divisão por zero por ora."
      ],
      "metadata": {
        "id": "ZSTJS17mBLnE"
      }
    },
    {
      "cell_type": "code",
      "source": [
        "def soma(a,b):\n",
        "  return a + b\n",
        "\n",
        "def subtracao(a,b):\n",
        "  return a - b\n",
        "\n",
        "def multiplicacao(a,b):\n",
        "  return a * b\n",
        "\n",
        "def divisao(a,b):\n",
        "  return a / b\n",
        "\n",
        "s = soma(10,2)\n",
        "sub = subtracao(10,2)\n",
        "m = multiplicacao(10,2)\n",
        "d = divisao(10,2)\n",
        "\n",
        "print('A soma é: ' + str(s) + ' A subtração é: ' + str(sub) + '  A multiplicação é: ' + str(m) + ' A divisão é: ' + str(d))\n"
      ],
      "metadata": {
        "colab": {
          "base_uri": "https://localhost:8080/"
        },
        "id": "oI8o-EPf98nA",
        "outputId": "e699a70e-bd81-4f2e-c232-84b049576ddf"
      },
      "execution_count": 15,
      "outputs": [
        {
          "output_type": "stream",
          "name": "stdout",
          "text": [
            "A soma é: 12 A subtração é: 8  A multiplicação é: 20 A divisão é: 5.0\n"
          ]
        }
      ]
    },
    {
      "cell_type": "markdown",
      "source": [
        "### Loops\n"
      ],
      "metadata": {
        "id": "Gmk0AKmf1OSF"
      }
    },
    {
      "cell_type": "markdown",
      "source": [
        "1) Crie uma função que, dado um inteiro positivo, imprima os valores de 0 até o penúltimo inteiro antes do que foi informado.\n",
        "\n"
      ],
      "metadata": {
        "id": "7wQMXFnLElxX"
      }
    },
    {
      "cell_type": "code",
      "source": [
        "def funcao(x):\n",
        "  i = 0\n",
        "  while i < x :\n",
        "    print(i)\n",
        "    i+=1\n",
        "\n",
        "funcao(3)"
      ],
      "metadata": {
        "colab": {
          "base_uri": "https://localhost:8080/"
        },
        "id": "h_QlQqG-A5ff",
        "outputId": "8a61c7bf-9246-49e0-eeaf-234f022ef1dc"
      },
      "execution_count": 20,
      "outputs": [
        {
          "output_type": "stream",
          "name": "stdout",
          "text": [
            "0\n",
            "1\n",
            "2\n"
          ]
        }
      ]
    },
    {
      "cell_type": "markdown",
      "source": [
        "2) Aproveite a lógica desenvolvida no exercício anterior e, ao invés de imprimir os valores, faça a soma de todos os inteiros entre 0 e o valor informado (incluindo o valor). Imprima uma mensagem ao final informando o valor considerado e a soma resultante.\n",
        "\n",
        "Exemplo: Se o valor informado for 3, o resultado esperado deve ser, 6 (3 + 2 + 1 + 0)"
      ],
      "metadata": {
        "id": "JA6GctkDqi2m"
      }
    },
    {
      "cell_type": "code",
      "source": [
        "def soma_resultante(x):\n",
        "  i = 1\n",
        "  soma = 0\n",
        "  while i <= x :\n",
        "    soma += i\n",
        "    i+=1\n",
        "  print('A soma resultante do valor {} é {}'.format(x,soma))\n",
        "\n",
        "soma_resultante(3)"
      ],
      "metadata": {
        "colab": {
          "base_uri": "https://localhost:8080/"
        },
        "id": "NFxX-AxYvgIX",
        "outputId": "95e8fe81-f915-407a-bfed-6c886e816732"
      },
      "execution_count": 27,
      "outputs": [
        {
          "output_type": "stream",
          "name": "stdout",
          "text": [
            "A soma resultante do valor 3 é 6\n"
          ]
        }
      ]
    },
    {
      "cell_type": "markdown",
      "source": [
        "3) Dado o último exercício, vamos evoluir a lógica da soma completa para uma soma condicional de pares, ou seja, entre 0 e o valor inteiro informado, faça a soma somente dos números pares. Caso o número informado seja par, ele também deve ser incluído. Lembre-se de imprimir uma mensagem ao final informando o valor considerado e a soma resultante.\n",
        "\n",
        "Exemplo: Se o valor informado for 6, o resultado esperado deve ser 12 (0 + 2 + 4 + 6)"
      ],
      "metadata": {
        "id": "b5ry7DkdtNCm"
      }
    },
    {
      "cell_type": "code",
      "source": [],
      "metadata": {
        "id": "KnHo0m9Qwx7U"
      },
      "execution_count": null,
      "outputs": []
    },
    {
      "cell_type": "markdown",
      "source": [
        "4) Crie uma função que receba uma string e imprima cada caractere em uma linha, tal que apareça um '-' seguido do caractere."
      ],
      "metadata": {
        "id": "QHN9-TBoJIeH"
      }
    },
    {
      "cell_type": "markdown",
      "source": [
        "### Condicionais"
      ],
      "metadata": {
        "id": "oIRxBM_C1UeE"
      }
    },
    {
      "cell_type": "markdown",
      "source": [
        "1) Crie uma função que, dadas duas variáveis inteiras, imprima a sua soma se eles forem iguais e a sua diferença se eles forem diferentes. Considere imprimir uma mensagem que mostre o resultado e a operação realizada. Teste esta função passando dois números iguais e passando dois números diferentes.\n"
      ],
      "metadata": {
        "id": "On9X4UMhiCNI"
      }
    },
    {
      "cell_type": "code",
      "source": [
        "def igual_ou_diferente(a, b):\n",
        "    if a == b:\n",
        "        print('Variáveis iguais, logo a soma é de {}.'.format(a+b))\n",
        "    else:\n",
        "        print('Variáveis diferentes, logo a subtração é de {}.'.format(a-b))\n",
        "\n",
        "igual_ou_diferente(7,7)\n",
        "igual_ou_diferente(7,84)"
      ],
      "metadata": {
        "colab": {
          "base_uri": "https://localhost:8080/"
        },
        "id": "LBruoNgsiIxh",
        "outputId": "e6f7c0e0-8f42-451d-a106-45b22338449b"
      },
      "execution_count": null,
      "outputs": [
        {
          "output_type": "stream",
          "name": "stdout",
          "text": [
            "Variáveis iguais, logo a soma é de 14.\n",
            "Variáveis diferentes, logo a subtração é de -77.\n"
          ]
        }
      ]
    },
    {
      "cell_type": "markdown",
      "source": [
        "2) Crie uma função que, dada uma variável inteira, imprima se o número informado é par, ímpar ou zero. Teste esta função para as três condições.\n"
      ],
      "metadata": {
        "id": "WAgMQ7JFF-Dj"
      }
    },
    {
      "cell_type": "code",
      "source": [
        "def par_impar_zero(x):\n",
        "    if x == 0:\n",
        "      print('{} é zero.'.format(x))\n",
        "    elif x % 2 == 0:\n",
        "      print('{} é par.'.format(x))\n",
        "    else:\n",
        "      print('{} é impar.'.format(x))\n",
        "\n",
        "par_impar_zero(4)\n",
        "par_impar_zero(7)\n",
        "par_impar_zero(0)"
      ],
      "metadata": {
        "colab": {
          "base_uri": "https://localhost:8080/"
        },
        "outputId": "fec0aa6b-52a8-40ed-ea71-54480d01ba85",
        "id": "dXbGus_GF-Dj"
      },
      "execution_count": null,
      "outputs": [
        {
          "output_type": "stream",
          "name": "stdout",
          "text": [
            "4 é par.\n",
            "7 é impar.\n",
            "0 é zero.\n"
          ]
        }
      ]
    },
    {
      "cell_type": "markdown",
      "source": [
        "3) Crie uma função que verifique se:\n",
        "\n",
        "1.   Um número é maior que 10 **e** menor que 20;\n",
        "2.   Um número é menor ou igual a 10 **ou** maior ou igual a 20;\n",
        "\n",
        "Imprima uma mensagem informando qual condição foi satisfeita e teste as duas condições com pelo menos um exemplo."
      ],
      "metadata": {
        "id": "m7KKqyn-HhtY"
      }
    },
    {
      "cell_type": "code",
      "source": [
        "def verifica_numero(x):\n",
        "  if (x > 10) and (x < 20):\n",
        "    print('{} é maior que 10 e menor que 20.'.format(x))\n",
        "  elif (x <= 10) or (x >= 20):\n",
        "    print('{} é menor ou igual a 10 ou maior ou igual a 20.'.format(x))\n",
        "\n",
        "verifica_numero(15)\n",
        "verifica_numero(1)\n",
        "verifica_numero(20)"
      ],
      "metadata": {
        "colab": {
          "base_uri": "https://localhost:8080/"
        },
        "id": "Vnb-qdJBICtk",
        "outputId": "7e595fed-1d32-46e2-bdf5-8ea1cd09d0cf"
      },
      "execution_count": null,
      "outputs": [
        {
          "output_type": "stream",
          "name": "stdout",
          "text": [
            "15 é maior que 10 e menor que 20.\n",
            "1 é menor ou igual a 10 ou maior ou igual a 20.\n",
            "20 é menor ou igual a 10 ou maior ou igual a 20.\n"
          ]
        }
      ]
    },
    {
      "cell_type": "markdown",
      "source": [
        "4) Crie uma calculadora que dadas duas variáveis numéricas e um identificador que caracteriza uma das quatro operações básicas de Soma, Subtração, Multiplicação e Divisão, imprima o resultado da operação.\n",
        "\n",
        "Caso haja alguma operação inválida (como dividir por zero), imprima a mensagem \"Não tente quebrar esta calculadora básica!\". No caso do operador ser desconhecido, imprima a mensagem \"Operador não reconhecido!\".\n",
        "\n",
        "Chame a função testando todos os operadores e um caso onde haja uma divisão por zero.\n",
        "\n",
        "Considere os seguintes identificadores para os operadores:\n",
        "\n",
        "\n",
        "*   '+' = Soma\n",
        "*   '-' = Subtração\n",
        "*   '*' = Multiplicação\n",
        "*   '/' = Divisão"
      ],
      "metadata": {
        "id": "0AZBom5T8zoF"
      }
    },
    {
      "cell_type": "code",
      "source": [
        "def calculadora_basica(a, b, operador):\n",
        "    if operador == '+':\n",
        "        print('Soma: {}'.format(a+b))\n",
        "    elif operador == '-':\n",
        "        print('Subtração: {}'.format(a-b))\n",
        "    elif operador == '*':\n",
        "        print('Multiplicação: {}'.format(a*b))\n",
        "    elif operador == '/':\n",
        "        if b != 0:\n",
        "          print('Divisão: {}'.format(a/b))\n",
        "        else:\n",
        "          print(\"Não tente quebrar esta calculadora básica!\")\n",
        "    else:\n",
        "        print('Operador não reconhecido!')\n",
        "\n",
        "calculadora_basica(7, 5, '+')\n",
        "calculadora_basica(7, 9, '-')\n",
        "calculadora_basica(505, 4, '*')\n",
        "calculadora_basica(754, 3, \"/\")\n",
        "calculadora_basica(9, 0, \"/\")\n",
        "calculadora_basica(9, 0, \"%\")"
      ],
      "metadata": {
        "colab": {
          "base_uri": "https://localhost:8080/"
        },
        "outputId": "ab9537ad-ac00-4eee-d080-f17574f2b56d",
        "id": "y1r8c0lZ-g9c"
      },
      "execution_count": null,
      "outputs": [
        {
          "output_type": "stream",
          "name": "stdout",
          "text": [
            "Soma: 12\n",
            "Subtração: -2\n",
            "Multiplicação: 2020\n",
            "Divisão: 251.33333333333334\n",
            "Não tente quebrar esta calculadora básica!\n",
            "Operador não reconhecido!\n"
          ]
        }
      ]
    },
    {
      "cell_type": "markdown",
      "source": [
        "### Teste seu Conhecimento"
      ],
      "metadata": {
        "id": "QoDwC9Ld2B8j"
      }
    },
    {
      "cell_type": "markdown",
      "source": [
        "1) Crie um classificador de código de barras, dado um código de 10 dígitos inteiros e positivos em string. A partir deste código, realize a soma de cada um dos dígitos (S) e classifque o código de barras em relação ao tipo de produto que ele pertence, como segue:\n",
        "\n",
        "\n",
        "*   S >= 0 e S<= 20 --> Bomboniére\n",
        "*   S >= 21 e S<= 50 --> Higiene\n",
        "*   S >= 51 e S<= 100 --> Utensílios\n",
        "*   S >= 101 e S<= 500 --> Congelados\n",
        "*   S >= 501 e S<= 1000 --> Bebidas\n",
        "*   S >= 1001 --> Padaria\n",
        "\n"
      ],
      "metadata": {
        "id": "jqzV6BlaAnSx"
      }
    },
    {
      "cell_type": "code",
      "source": [
        "def classifica_codigo_barras(codigo_barras):\n",
        "    soma = 0\n",
        "    for digito in codigo_barras:\n",
        "      soma = soma + int(digito)\n",
        "\n",
        "    if soma >= 0 and soma <= 20:\n",
        "        print(\"Bomboniére\")\n",
        "    elif soma >= 21 and soma <= 50:\n",
        "        print(\"Higiene\")\n",
        "    elif soma >= 51 and soma <= 100:\n",
        "        print(\"Utensílios\")\n",
        "    elif soma >= 101 and soma <= 500:\n",
        "        print(\"Congelados\")\n",
        "    elif soma >= 501 and soma <= 1000:\n",
        "        print(\"Bebidas\")\n",
        "    elif soma >= 1001:\n",
        "        print(\"Padaria\")\n",
        "\n",
        "classifica_codigo_barras('1980001124')\n"
      ],
      "metadata": {
        "colab": {
          "base_uri": "https://localhost:8080/"
        },
        "outputId": "b1118218-8d7f-4506-9288-c0559a579f54",
        "id": "Pk6PIrULAr8p"
      },
      "execution_count": null,
      "outputs": [
        {
          "output_type": "stream",
          "name": "stdout",
          "text": [
            "Higiene\n"
          ]
        }
      ]
    },
    {
      "cell_type": "markdown",
      "source": [
        "## Orientação a Objetos em Python"
      ],
      "metadata": {
        "id": "Dz71PzIMdZbn"
      }
    },
    {
      "cell_type": "markdown",
      "source": [
        "1) Crie uma classe Pessoa que tenha um atributo de classe idade de valor 18. Instancie um objeto Pessoa e imprima a sua idade."
      ],
      "metadata": {
        "id": "wV0codljZNNb"
      }
    },
    {
      "cell_type": "code",
      "source": [
        "class Pessoa():\n",
        "\n",
        "  def __init__(self,idade=18):\n",
        "    self.idade = idade\n",
        "\n",
        "p = Pessoa()\n",
        "print(p.idade)"
      ],
      "metadata": {
        "colab": {
          "base_uri": "https://localhost:8080/"
        },
        "id": "2fE82noDL-9k",
        "outputId": "7f50aa2d-2a44-4b78-ffe5-f87235a24fad"
      },
      "execution_count": 29,
      "outputs": [
        {
          "output_type": "stream",
          "name": "stdout",
          "text": [
            "18\n"
          ]
        }
      ]
    },
    {
      "cell_type": "markdown",
      "source": [
        "2) Crie uma classe Pessoa que tenha os atributos de instância nome (com valor \"Maria\") e idade (com valor 18). Instancie um objeto Pessoa e imprima seu nome e sua idade. Altere o nome deste objeto e imprima novamente seu nome e sua idade."
      ],
      "metadata": {
        "id": "L7dW9PH9Zzjp"
      }
    },
    {
      "cell_type": "code",
      "source": [
        "class Pessoa():\n",
        "\n",
        "  def __init__(self,nome=\"Maria\",idade=18):\n",
        "    self.nome = nome\n",
        "    self.idade = idade\n",
        "\n",
        "p1 = Pessoa()\n",
        "p2 = Pessoa(\"João\")\n",
        "print(p1.nome,p1.idade)\n",
        "print(p2.nome,p2.idade)"
      ],
      "metadata": {
        "colab": {
          "base_uri": "https://localhost:8080/"
        },
        "id": "cqpeox_XNegD",
        "outputId": "1c8bee81-16e8-47df-de53-985c4ab1322d"
      },
      "execution_count": 33,
      "outputs": [
        {
          "output_type": "stream",
          "name": "stdout",
          "text": [
            "Maria 18\n",
            "João 18\n"
          ]
        }
      ]
    },
    {
      "cell_type": "markdown",
      "source": [
        "3) Crie uma classe Pessoa que tenha os atributos de instância nome e idade, cujos valores devem ser recebidos via construtor. Instancie um objeto Pessoa e imprima seu nome e sua idade. Altere o nome deste objeto e imprima novamente seu nome e sua idade."
      ],
      "metadata": {
        "id": "oWxqCIKEaHmw"
      }
    },
    {
      "cell_type": "code",
      "source": [
        "class Pessoa():\n",
        "\n",
        "  def __init__(self,nome,idade):\n",
        "    self.nome = nome\n",
        "    self.idade = idade\n",
        "\n",
        "p = Pessoa(\"Julia\", 19)\n",
        "print(p.idade,p.nome)\n",
        "p.nome = \"Maria\"\n",
        "print(p.idade,p.nome)"
      ],
      "metadata": {
        "colab": {
          "base_uri": "https://localhost:8080/"
        },
        "id": "6Ld6aku0Od5R",
        "outputId": "3be9b81e-a80f-4cdc-e9de-5950fca4dc6b"
      },
      "execution_count": 34,
      "outputs": [
        {
          "output_type": "stream",
          "name": "stdout",
          "text": [
            "19 Julia\n",
            "19 Maria\n"
          ]
        }
      ]
    },
    {
      "cell_type": "markdown",
      "source": [
        "4) Crie uma classe Pessoa similar à do exercício 3, mas incluindo um método faz_apresentacao que imprima \"Olá, meu nome é [nome da pessoa]\". Instancie um objeto Pessoa e chame este método. Altere o nome deste objeto e chame novamente este método."
      ],
      "metadata": {
        "id": "5bVMrIS7bn7a"
      }
    },
    {
      "cell_type": "code",
      "source": [
        "class Pessoa():\n",
        "\n",
        "  def __init__(self,nome,idade):\n",
        "    self.nome = nome\n",
        "    self.idade = idade\n",
        "\n",
        "  def faz_apresentacao(self):\n",
        "    print(\"Olá, meu nome é \" + self.nome)\n",
        "\n",
        "p = Pessoa(\"Julia\", 19)\n",
        "p.faz_apresentacao()\n",
        "p.nome = \"Thiago\"\n",
        "p.faz_apresentacao()"
      ],
      "metadata": {
        "colab": {
          "base_uri": "https://localhost:8080/"
        },
        "id": "M9CxHwwVO89e",
        "outputId": "0cc13e61-4911-4666-9ef7-055f1f6caef6"
      },
      "execution_count": 37,
      "outputs": [
        {
          "output_type": "stream",
          "name": "stdout",
          "text": [
            "Olá, meu nome é Julia\n",
            "Olá, meu nome é Thiago\n"
          ]
        }
      ]
    },
    {
      "cell_type": "markdown",
      "source": [
        "5) Crie uma classe Empregado como subclasse de Pessoa (do exercício 4). Instancie um objeto Empregado e chame o método faz_apresentacao."
      ],
      "metadata": {
        "id": "_v731uxUcars"
      }
    },
    {
      "cell_type": "code",
      "source": [
        "class Empregado(Pessoa):\n",
        "\n",
        "  def __init__(self,nome,idade):\n",
        "    Pessoa.__init__(self,nome, idade)\n",
        "\n",
        "p1 = Empregado(\"Talita\", 20)\n",
        "p1.faz_apresentacao()"
      ],
      "metadata": {
        "colab": {
          "base_uri": "https://localhost:8080/"
        },
        "id": "JVNXLbUtPh0I",
        "outputId": "5be84fa2-7a17-4093-98bc-ac1f49072f24"
      },
      "execution_count": 44,
      "outputs": [
        {
          "output_type": "stream",
          "name": "stdout",
          "text": [
            "Olá, meu nome é Talita\n"
          ]
        }
      ]
    },
    {
      "cell_type": "markdown",
      "source": [
        "6) Altere sua classe Empregado do exercício 6 para incluir o atributo de instância matricula, que deverá ser preenchido ao criar um objeto Empregado. Agora, o construtor de Empregado deverá chamar o construtor da sua superclasse. Crie também o método bater_ponto, que usa o nome e a matricula do empregado para \"bater ponto\". Instancie um objeto Empregado e chame o método bater_ponto."
      ],
      "metadata": {
        "id": "twz_FI7cdDdz"
      }
    },
    {
      "cell_type": "code",
      "source": [
        "class Empregado(Pessoa):\n",
        "\n",
        "  def __init__(self,nome,idade,matricula):\n",
        "    Pessoa.__init__(self,nome,idade)\n",
        "    self.matricula = matricula\n",
        "\n",
        "  def bater_ponto(self):\n",
        "    print(\"Bater ponto \" + self.nome + \" \" + str(self.matricula))\n",
        "\n",
        "emp = Empregado('José', 33, 12343535)\n",
        "emp.bater_ponto()"
      ],
      "metadata": {
        "colab": {
          "base_uri": "https://localhost:8080/"
        },
        "id": "ncRV_ax5bRbB",
        "outputId": "45126c98-ac86-4522-e190-116e5d0078bb"
      },
      "execution_count": 49,
      "outputs": [
        {
          "output_type": "stream",
          "name": "stdout",
          "text": [
            "Bater ponto José 12343535\n"
          ]
        }
      ]
    },
    {
      "cell_type": "markdown",
      "source": [
        "7) Crie uma classe **Cachorro** com atributos de instância *tamanho*, *raca*, *nome* e o método latir, que lata de forma diferente de acordo com o tamanho do cachorro.\n",
        "\n",
        "Depois, crie 3 objetos do tipo Cachorro, variando seus tamanhos, e faça-os latir."
      ],
      "metadata": {
        "id": "KJTV4VpBr91c"
      }
    },
    {
      "cell_type": "code",
      "source": [
        "class Cachorro():\n",
        "\n",
        "  def __init__(self,tamanho,raca,nome):\n",
        "    self.tamanho = tamanho\n",
        "    self.raca = raca\n",
        "    self.nome = nome\n",
        "\n",
        "  def latir(self):\n",
        "\n",
        "    if (self.tamanho == 'Pequeno'):\n",
        "      print('au au')\n",
        "    elif (self.tamanho == 'Médio'):\n",
        "      print('Au Au')\n",
        "    elif (self.tamanho == 'Grande'):\n",
        "      print('AU AU')\n",
        "\n",
        "cachorro1 = Cachorro('Pequeno','yorkshire', 'Lulu')\n",
        "cachorro2 = Cachorro('Grande','golden', 'Amora')\n",
        "cachorro3 = Cachorro('Médio','vira-lata', 'Sol')\n",
        "\n",
        "cachorro1.latir()\n",
        "cachorro2.latir()\n",
        "cachorro3.latir()"
      ],
      "metadata": {
        "colab": {
          "base_uri": "https://localhost:8080/"
        },
        "id": "ZzP84xKTc0Tw",
        "outputId": "1ae59299-be98-4361-ae12-b025abf0f5a2"
      },
      "execution_count": 50,
      "outputs": [
        {
          "output_type": "stream",
          "name": "stdout",
          "text": [
            "au au\n",
            "AU AU\n",
            "Au Au\n"
          ]
        }
      ]
    },
    {
      "cell_type": "markdown",
      "source": [
        "8) Crie uma classe **Pessoa** com o atributo de instância non-public *nome* e o método *consulta_nome*. Crie também uma classe **Conta** com os atributos de instância non-public *numero*, *saldo*, *titular*, *senha* e os métodos *consulta_numero*, *consulta_saldo*, *consulta_titular*, *consulta_senha* e *sacar*.\n",
        "\n",
        "O método *sacar* deve receber um valor e uma senha. Se a senha informada for igual à senha da conta, o saque é permitido, mas se o saldo passar a ficar negativo, deve-se imprimir uma mensagem que está no cheque especial.\n",
        "\n",
        "Em seguida, instancie uma pessoa e sua conta, e realize as seguintes operações nesta conta:\n",
        "\n",
        "*   consulte o saldo\n",
        "*   tente sacar 100 com a senha errada\n",
        "*   consulte o saldo novamente\n",
        "*   tente sacar 100 com a senha certa\n",
        "*   consulte o saldo novamente\n",
        "*   tente sacar um valor maior do que o saldo com a senha certa\n",
        "*   consulte o saldo novamente"
      ],
      "metadata": {
        "id": "OVpwu438c8u4"
      }
    },
    {
      "cell_type": "code",
      "source": [
        "class Pessoa():\n",
        "  def __init__(self,nome):\n",
        "    self.__nome = nome\n",
        "\n",
        "  def consulta_nome(self):\n",
        "    return self.__nome\n",
        "\n",
        "class Conta():\n",
        "\n",
        "  def __init__(self,numero,saldo,titular,senha):\n",
        "    self.__numero = numero\n",
        "    self.__saldo = saldo\n",
        "    self.__titular = titular\n",
        "    self.__senha = senha\n",
        "\n",
        "  def consulta_numero(self):\n",
        "    return self.__numero\n",
        "\n",
        "  def consulta_saldo(self):\n",
        "    return self.__saldo\n",
        "\n",
        "  def consulta_titular(self):\n",
        "    return self.__titular\n",
        "\n",
        "  def consulta_senha(self):\n",
        "    return self.__senha\n",
        "\n",
        "  def sacar(self,valor,senha):\n",
        "\n",
        "    if (senha == self.__senha):\n",
        "        print('Saque no valor {} aprovado'.format(valor))\n",
        "        self.__saldo -= valor\n",
        "\n",
        "        if (self.__saldo < 0):\n",
        "          print('Está no cheque especial')\n",
        "    else:\n",
        "      print('Senha incorreta, por favor digite novamente')\n",
        "\n",
        "\n",
        "p = Pessoa('Júlia')\n",
        "c = Conta(132453,300,p.consulta_nome(),1234)\n",
        "\n",
        "print(c.consulta_saldo())\n",
        "c.sacar(100, 1235)\n",
        "\n",
        "print(c.consulta_saldo())\n",
        "c.sacar(100, 1234)\n",
        "\n",
        "print(c.consulta_saldo())\n",
        "c.sacar(500, 1234)\n",
        "\n",
        "print(c.consulta_saldo())"
      ],
      "metadata": {
        "colab": {
          "base_uri": "https://localhost:8080/"
        },
        "id": "AoKApcpceFDT",
        "outputId": "404fa000-4b0c-4a65-d2ab-444152082529"
      },
      "execution_count": 51,
      "outputs": [
        {
          "output_type": "stream",
          "name": "stdout",
          "text": [
            "300\n",
            "Senha incorreta, por favor digite novamente\n",
            "300\n",
            "Saque no valor 100 aprovado\n",
            "200\n",
            "Saque no valor 500 aprovado\n",
            "Está no cheque especial\n",
            "-300\n"
          ]
        }
      ]
    }
  ]
}